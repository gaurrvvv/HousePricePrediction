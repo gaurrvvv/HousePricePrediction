{
  "nbformat": 4,
  "nbformat_minor": 0,
  "metadata": {
    "colab": {
      "provenance": []
    },
    "kernelspec": {
      "name": "python3",
      "display_name": "Python 3"
    },
    "language_info": {
      "name": "python"
    }
  },
  "cells": [
    {
      "cell_type": "code",
      "execution_count": 1,
      "metadata": {
        "colab": {
          "base_uri": "https://localhost:8080/"
        },
        "id": "SrOKFWOmB6dT",
        "outputId": "f4359a26-5d05-45f5-a131-1da200641fec"
      },
      "outputs": [
        {
          "output_type": "stream",
          "name": "stdout",
          "text": [
            "Scoring response\n",
            "{'predictions': [{'fields': ['prediction'], 'values': [[1108242.5], [514701.125], [562873.8125], [496131.75], [626474.1875], [874703.0], [644858.625], [547342.375]]}]}\n"
          ]
        }
      ],
      "source": [
        "import requests\n",
        "\n",
        "# NOTE: you must manually set API_KEY below using information retrieved from your IBM Cloud account (https://eu-de.dataplatform.cloud.ibm.com/docs/content/wsj/analyze-data/ml-authentication.html?context=cpdaas)\n",
        "API_KEY = \"FF-o6U2l_L4p7E5Rb51ZwxrGs3CLar6TS6XwVDMZtucm\"\n",
        "token_response = requests.post('https://iam.cloud.ibm.com/identity/token', data={\"apikey\": API_KEY, \"grant_type\": 'urn:ibm:params:oauth:grant-type:apikey'})\n",
        "mltoken = token_response.json()[\"access_token\"]\n",
        "\n",
        "header = {'Content-Type': 'application/json', 'Authorization': 'Bearer ' + mltoken}\n",
        "\n",
        "# NOTE:  manually define and pass the array(s) of values to be scored in the next line\n",
        "payload_scoring = {\"input_data\": [\n",
        "\t{\n",
        "\t\t\"fields\": [\"date\",\n",
        "             \"bedrooms\",\n",
        "             \"bathrooms\",\n",
        "             \"sqft_living\",\n",
        "             \"sqft_lot\",\n",
        "             \"floors\",\n",
        "             \"waterfront\",\n",
        "             \"view\",\n",
        "             \"condition\",\n",
        "             \"sqft_above\",\n",
        "             \"sqft_basement\",\n",
        "             \"yr_built\",\n",
        "             \"yr_renovated\",\n",
        "             \"street\",\n",
        "             \"city\",\n",
        "             \"statezip\",\n",
        "             \"country\"],\n",
        "\t\t\"values\": [[\"2023-09-20\",3,1.5,3453,9012,2.0,0,3,3,2265,1188,1960,2008,\"1154 Conway Stravenue Apt. 209\",\"North Amber\",\"TX 15045\",\"USA\"],\n",
        "             [\"2024-10-10\",4,4.0,1234,3965,1.5,0,4,3,832,402,1983,0,\"742 Jackson Court Suite 641\",\"Lawsonburgh\",\"AK 29957\",\"USA\"],\n",
        "             [\"2025-02-15\",6,2.8,681,7816,1,1,2,3,627,54,1996,2003,\"6769 Melissa Terrace Apt. 246\",\"Tonyatown\",\"NV 99071\",\"USA\"],\n",
        "             [\"2023-09-21\",2,3.4,839,6805,3,0,2,3,594,245,1978,2004,\"53295 Elizabeth Summit Suite 521\",\"Lake Michaelshire\",\"MA 60708\",\"USA\"],\n",
        "             [\"2024-06-06\",1,3.8,1223,2089,2.5,1,2,1,1107,116,1983,2020,\"017 Mason Lake\",\"West Randy\",\"WV 40444\",\"USA\"],\n",
        "             [\"2022-07-17\",6,1,2324,5458,2,1,4,5,998,1326,2003,0,\"23121 Michael Prairie Apt. 819\",\"Woodsview\",\"CA 20169\",\"USA\"],\n",
        "             [\"2025-01-25\",5,3.4,1535,6888,1.5,1,1,1,1388,147,2003,0,\"31788 Day Ways\",\"Kimberlytown\",\"VT 73103\",\"USA\"],\n",
        "             [\"2022-12-22\",2,1.9,1289,6598,2,0,2,1,1210,79,1976,0,\"6184 Arthur Trace Apt. 279\",\"Jacquelineville\",\"SC 34760\",\"USA\"]]\n",
        "\t}\n",
        "]}\n",
        "\n",
        "response_scoring = requests.post('https://eu-de.ml.cloud.ibm.com/ml/v4/deployments/e9b48c38-1fc9-45ec-9eb1-5fcf4a3f04a2/predictions?version=2021-05-01', json=payload_scoring,\n",
        " headers={'Authorization': 'Bearer ' + mltoken})\n",
        "\n",
        "print(\"Scoring response\")\n",
        "try:\n",
        "    print(response_scoring.json())\n",
        "except ValueError:\n",
        "    print(response_scoring.text)\n",
        "except Exception as e:\n",
        "    print(f\"An unexpected error occurred: {e}\")"
      ]
    }
  ]
}